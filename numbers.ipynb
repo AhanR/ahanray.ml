{
  "nbformat": 4,
  "nbformat_minor": 0,
  "metadata": {
    "colab": {
      "name": "numbers.ipynb",
      "provenance": [],
      "collapsed_sections": [],
      "mount_file_id": "1Ph9MUzyRHwnk1PZEnwlbiLRtai8Ceiym",
      "authorship_tag": "ABX9TyO/LyCYFRO73wV+GqkNJrhm",
      "include_colab_link": true
    },
    "kernelspec": {
      "name": "python3",
      "display_name": "Python 3"
    },
    "language_info": {
      "name": "python"
    },
    "accelerator": "GPU"
  },
  "cells": [
    {
      "cell_type": "markdown",
      "metadata": {
        "id": "view-in-github",
        "colab_type": "text"
      },
      "source": [
        "<a href=\"https://colab.research.google.com/github/AhanR/ahan.ml/blob/main/numbers.ipynb\" target=\"_parent\"><img src=\"https://colab.research.google.com/assets/colab-badge.svg\" alt=\"Open In Colab\"/></a>"
      ]
    },
    {
      "cell_type": "code",
      "source": [
        "import pandas as pd\n",
        "import numpy as np\n",
        "import tensorflow as tf"
      ],
      "metadata": {
        "id": "JNFITGk3z-F6"
      },
      "execution_count": null,
      "outputs": []
    },
    {
      "cell_type": "code",
      "source": [
        ""
      ],
      "metadata": {
        "id": "Tm-tr-m4_eV5"
      },
      "execution_count": null,
      "outputs": []
    },
    {
      "cell_type": "code",
      "source": [
        "from keras.datasets import mnist\n",
        "(x_train, y_train), (x_test, y_test) = mnist.load_data()\n",
        "x_train = x_train[0:1600:1]\n",
        "y_train = y_train[0:1600:1]\n",
        "print(len(x_test),len(y_test))\n"
      ],
      "metadata": {
        "id": "54xhHPJ30E0I",
        "colab": {
          "base_uri": "https://localhost:8080/"
        },
        "outputId": "cba6990c-1826-44c2-d561-96e8d74cae66"
      },
      "execution_count": null,
      "outputs": [
        {
          "output_type": "stream",
          "name": "stdout",
          "text": [
            "10000 10000\n"
          ]
        }
      ]
    },
    {
      "cell_type": "code",
      "source": [
        "model = tf.keras.models.Sequential([\n",
        "                                    tf.keras.layers.Conv2D(16, 3, activation = 'relu', input_shape=(28,28,1)),\n",
        "                                    tf.keras.layers.MaxPooling2D(2,2),\n",
        "                                    tf.keras.layers.Conv2D(16, 3, activation = 'relu', input_shape=(28,28,1)),\n",
        "                                    tf.keras.layers.MaxPooling2D(2,2),\n",
        "                                    tf.keras.layers.Flatten(),\n",
        "                                    tf.keras.layers.Dense(32, activation='relu'),\n",
        "                                    tf.keras.layers.Dense(10, activation='softmax')\n",
        "])"
      ],
      "metadata": {
        "id": "dX2pIkCOVh6O"
      },
      "execution_count": null,
      "outputs": []
    },
    {
      "cell_type": "code",
      "source": [
        "model.compile(loss = 'sparse_categorical_crossentropy', optimizer = 'adam', metrics=['accuracy'])"
      ],
      "metadata": {
        "id": "54JI40rafD1N"
      },
      "execution_count": null,
      "outputs": []
    },
    {
      "cell_type": "code",
      "source": [
        "print(len(x_train), len(y_train))\n",
        "history = model.fit(x_train, y_train, epochs = 5, verbose = 1)\n",
        "score = model.evaluate(x_test, y_test, verbose = 1)"
      ],
      "metadata": {
        "colab": {
          "base_uri": "https://localhost:8080/"
        },
        "id": "5LRtcnUEgo5n",
        "outputId": "f601e8ae-8e44-4014-cc34-1818a2ee72ca"
      },
      "execution_count": null,
      "outputs": [
        {
          "output_type": "stream",
          "name": "stdout",
          "text": [
            "1600 1600\n",
            "Epoch 1/5\n",
            "50/50 [==============================] - 1s 3ms/step - loss: 14.3043 - accuracy: 0.2731\n",
            "Epoch 2/5\n",
            "50/50 [==============================] - 0s 3ms/step - loss: 1.7083 - accuracy: 0.4181\n",
            "Epoch 3/5\n",
            "50/50 [==============================] - 0s 3ms/step - loss: 1.3726 - accuracy: 0.5425\n",
            "Epoch 4/5\n",
            "50/50 [==============================] - 0s 3ms/step - loss: 1.0563 - accuracy: 0.6600\n",
            "Epoch 5/5\n",
            "50/50 [==============================] - 0s 3ms/step - loss: 0.8675 - accuracy: 0.7200\n",
            "313/313 [==============================] - 1s 2ms/step - loss: 1.0589 - accuracy: 0.6935\n"
          ]
        }
      ]
    },
    {
      "cell_type": "code",
      "source": [
        ""
      ],
      "metadata": {
        "id": "BXOLg3MPxF_Z"
      },
      "execution_count": null,
      "outputs": []
    }
  ]
}